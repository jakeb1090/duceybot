{
 "cells": [
  {
   "cell_type": "code",
   "execution_count": 1,
   "metadata": {},
   "outputs": [],
   "source": [
    "import tweepy\n",
    "from tweepy import OAuthHandler\n",
    "from tweepy.streaming import StreamListener, Stream\n",
    "from config import az, fl\n"
   ]
  },
  {
   "cell_type": "code",
   "execution_count": 2,
   "metadata": {},
   "outputs": [],
   "source": [
    "class bot:\n",
    "    def __init__(self, state):\n",
    "        self.api_key = state['api_key']\n",
    "        self.api_secret = state['api_secret']\n",
    "        self.access_key = state['access_key']\n",
    "        self.access_secret = state['access_secret']\n",
    "\n",
    "    def get_params(self):\n",
    "        return self.gov\n",
    "\n",
    "    def authenticate(self):\n",
    "        auth = OAuthHandler(self.api_key, self.api_secret)\n",
    "        auth.set_access_token(self.access_key, self.access_secret)\n",
    "        api = tweepy.API(auth)\n",
    "        return api\n",
    "\n",
    "    def run_botaz(self):\n",
    "        api = self.authenticate()\n",
    "        geosearch = api.search(q=\"ducey -filter:retweets AND -filter:links\",tweet_mode=\"extended\")\n",
    "        for x in geosearch:\n",
    "            if len(x.full_text) < 100:\n",
    "                print(x.full_text, \"\\n\")\n",
    "                try:\n",
    "                    api.retweet(x.id)\n",
    "                except:\n",
    "                    pass\n",
    "                \n",
    "    def run_botfl(self):\n",
    "        api = self.authenticate()\n",
    "        geosearch = api.search(q=\"desantis -filter:retweets AND -filter:links\",tweet_mode=\"extended\")\n",
    "        for x in geosearch:\n",
    "            if len(x.full_text) < 100:\n",
    "                print(x.full_text, \"\\n\")\n",
    "                try:\n",
    "                    api.retweet(x.id)\n",
    "                except:\n",
    "                    pass\n",
    "                \n",
    "    def run_aztest(self):\n",
    "        api = self.authenticate()\n",
    "        geosearch = api.search(q=\"ducey -filter:retweets AND -filter:links\",tweet_mode=\"extended\")\n",
    "        results = []\n",
    "        for x in geosearch:\n",
    "            results.append(x)\n",
    "        return results\n",
    "            \n",
    "\n",
    "        \n",
    "# if 'ducey' not in x.in_reply_to_screen_name and 'ducey' not in x.in_reply_to_user_id and 'ducey' not in x.author:\n"
   ]
  },
  {
   "cell_type": "code",
   "execution_count": 4,
   "metadata": {
    "scrolled": false
   },
   "outputs": [
    {
     "name": "stdout",
     "output_type": "stream",
     "text": [
      "@AZAugie @drcarachrist @dougducey Ducey's willing partner in a pubic health catastrophe. \n",
      "\n",
      "@kalpago Ducey’s masters gave him his marching orders. \n",
      "\n",
      "@BeachBunnyWader @RonDeSantisFL They need to reopen Alcatraz for Trump, DeSantis and their clans. \n",
      "\n",
      "@parmejuan @mixtapekevin Christopher Lee! \n",
      "\n",
      "@Ksmygritzs @CAgovernor You spelled “DeSantis” wrong. \n",
      "\n"
     ]
    }
   ],
   "source": [
    "arizona = bot(az)\n",
    "arizona.run_botaz()\n",
    "florida = bot(fl)\n",
    "florida.run_botfl()"
   ]
  },
  {
   "cell_type": "code",
   "execution_count": null,
   "metadata": {},
   "outputs": [],
   "source": [
    "class DeSantisBot(bot):\n",
    "    def __init__(self, api_key, api_secret, access_secret, access_token):\n",
    "        super().__init__(api_key, api_secret, access_secret, access_token)\n",
    "\n",
    "    def get_tweets(self, api):\n",
    "        geosearch = api.search(q=\"desantis -filter:retweets AND -filter:links\",tweet_mode=\"extended\")\n",
    "        nearme = []\n",
    "        for x in geosearch:\n",
    "            if len(x.full_text) > 100:\n",
    "                pass\n",
    "            else:\n",
    "                try:\n",
    "                    api.retweet(x.id)\n",
    "                except:\n",
    "                    pass\n",
    "\n"
   ]
  },
  {
   "cell_type": "code",
   "execution_count": null,
   "metadata": {},
   "outputs": [],
   "source": []
  },
  {
   "cell_type": "code",
   "execution_count": null,
   "metadata": {},
   "outputs": [],
   "source": [
    "class DuceyBot(bot):\n",
    "    def __init__(self, api_key, api_secret, access_key, access_secret):\n",
    "        super().__init__(api_key, api_secret, access_key, access_secret)\n",
    "        \n",
    "    def get_auth(self):\n",
    "        api = self.get_auth()\n",
    "        \n",
    "    def get_tweets(self):\n",
    "        api = self.get_auth()\n",
    "        geosearch = api.search(q=\"ducey -filter:retweets AND -filter:links\",tweet_mode=\"extended\")\n",
    "        nearme = []\n",
    "        for x in geosearch:\n",
    "            data = {\n",
    "                'author':  x.author.screen_name, #\n",
    "#                 'followers': x.author.followers_count,\n",
    "#                 'text': x.full_text, #\n",
    "#                 'favorited': x.favorited,\n",
    "#                 'fav_count' : x.favorite_count,\n",
    "#                 'retweet_count': x.retweet_count,\n",
    "#                 'retweeted': x.retweeted,\n",
    "#                 'created_at': x.created_at, #\n",
    "                }\n",
    "        print(data)\n",
    "        "
   ]
  },
  {
   "cell_type": "code",
   "execution_count": null,
   "metadata": {},
   "outputs": [],
   "source": [
    "d = DuceyBot(az_d['api_key'], \n",
    "             az_d['api_secret'], \n",
    "             az_d['access_key'], \n",
    "             az_d['access_secret'])\n",
    "d.get_tweets()"
   ]
  },
  {
   "cell_type": "code",
   "execution_count": null,
   "metadata": {},
   "outputs": [],
   "source": [
    "        self.api_key = az_d['api_key']\n",
    "        self.api_secret = az_d['api_secret']\n",
    "        self.access_secret = az_d['access_secret']\n",
    "        self.access_token = az_d['access_token']"
   ]
  },
  {
   "cell_type": "code",
   "execution_count": null,
   "metadata": {},
   "outputs": [],
   "source": []
  },
  {
   "cell_type": "code",
   "execution_count": null,
   "metadata": {},
   "outputs": [],
   "source": []
  },
  {
   "cell_type": "code",
   "execution_count": null,
   "metadata": {},
   "outputs": [],
   "source": []
  },
  {
   "cell_type": "code",
   "execution_count": null,
   "metadata": {},
   "outputs": [],
   "source": [
    "class duceyBot():\n",
    "    auth = OAuthHandler(api_keyaz, api_secretaz)\n",
    "    auth.set_access_token(access_keyaz, access_secretaz)\n",
    "    api = tweepy.API(auth)\n",
    "    def __init__(self, api=api):\n",
    "        self.api = api\n",
    "\n",
    "    def get_tweets(self, api):\n",
    "        #geofilter = \"geocode=\"33.574450,-112.156970,150mi\",\"\n",
    "        geosearch = api.search(q=\"ducey -filter:retweets AND -filter:links\",tweet_mode=\"extended\")\n",
    "        nearme = []\n",
    "        for x in geosearch:\n",
    "            data = {\n",
    "                'author':  x.author.screen_name, #\n",
    "                'followers': x.author.followers_count,\n",
    "                'text': x.full_text, #\n",
    "                'favorited': x.favorited,\n",
    "                'fav_count' : x.favorite_count,\n",
    "                'retweet_count': x.retweet_count,\n",
    "                'retweeted': x.retweeted,\n",
    "                'created_at': x.created_at, #\n",
    "            }\n",
    "            if len(x.full_text) > 100:\n",
    "                pass\n",
    "            else:\n",
    "                try:\n",
    "                    # api.retweet(x.id)\n",
    "                    nearme.append(data)\n",
    "\n",
    "                except:\n",
    "                    pass\n",
    "        with open('tweets.txt', 'a') as f:\n",
    "            f.write(str(nearme))\n"
   ]
  }
 ],
 "metadata": {
  "kernelspec": {
   "display_name": "Python 3",
   "language": "python",
   "name": "python3"
  },
  "language_info": {
   "codemirror_mode": {
    "name": "ipython",
    "version": 3
   },
   "file_extension": ".py",
   "mimetype": "text/x-python",
   "name": "python",
   "nbconvert_exporter": "python",
   "pygments_lexer": "ipython3",
   "version": "3.6.9"
  }
 },
 "nbformat": 4,
 "nbformat_minor": 4
}
